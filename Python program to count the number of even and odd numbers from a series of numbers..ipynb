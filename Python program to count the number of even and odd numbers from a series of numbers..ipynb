{
 "cells": [
  {
   "cell_type": "code",
   "execution_count": 2,
   "id": "73ca4461",
   "metadata": {},
   "outputs": [
    {
     "name": "stdout",
     "output_type": "stream",
     "text": [
      "how many elements you want to enter9\n",
      "enter number:1\n",
      "enter number:2\n",
      "enter number:3\n",
      "enter number:4\n",
      "enter number:5\n",
      "enter number:6\n",
      "enter number:7\n",
      "enter number:8\n",
      "enter number:9\n",
      "total even= 4 total odd= 5\n"
     ]
    }
   ],
   "source": [
    "a=[]\n",
    "size=int(input(\"how many elements you want to enter\"))\n",
    "for i in range(size):\n",
    "    val=int(input(\"enter number:\"))\n",
    "    a.append(val)\n",
    "even=0\n",
    "odd=0\n",
    "for i in range(size):\n",
    "    if(a[i]%2==0):\n",
    "        even=even+1\n",
    "    else:\n",
    "        odd=odd+1\n",
    "print(\"total even=\",even,\"total odd=\",odd)"
   ]
  },
  {
   "cell_type": "code",
   "execution_count": null,
   "id": "5583ad0d",
   "metadata": {},
   "outputs": [],
   "source": []
  }
 ],
 "metadata": {
  "kernelspec": {
   "display_name": "Python 3 (ipykernel)",
   "language": "python",
   "name": "python3"
  },
  "language_info": {
   "codemirror_mode": {
    "name": "ipython",
    "version": 3
   },
   "file_extension": ".py",
   "mimetype": "text/x-python",
   "name": "python",
   "nbconvert_exporter": "python",
   "pygments_lexer": "ipython3",
   "version": "3.9.12"
  }
 },
 "nbformat": 4,
 "nbformat_minor": 5
}
